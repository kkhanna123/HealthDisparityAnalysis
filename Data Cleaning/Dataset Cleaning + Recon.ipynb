{
 "cells": [
  {
   "cell_type": "code",
   "execution_count": 0,
   "metadata": {
    "collapsed": false
   },
   "outputs": [
   ],
   "source": [
   ]
  },
  {
   "cell_type": "code",
   "execution_count": 1,
   "metadata": {
    "collapsed": false
   },
   "outputs": [
   ],
   "source": [
    "import pandas as pd\n",
    "import sklearn\n",
    "import seaborn as sns\n",
    "import matplotlib.pyplot as plt\n",
    "import numpy as np"
   ]
  },
  {
   "cell_type": "code",
   "execution_count": 2,
   "metadata": {
    "collapsed": false
   },
   "outputs": [
   ],
   "source": [
    "df_t = pd.read_csv('CensusData/acs2017_census_tract_data.csv')\n",
    "educational_data_ga = pd.read_csv(\"https://docs.google.com/spreadsheets/d/e/2PACX-1vRVCu8ZByowm8qqqseyYN8B8pTWaiuS7hdaseS-cn1XRVY5Cc1i92_8K6c3a-h_ro_Aypr61EDI89qa/pub?output=csv\")"
   ]
  },
  {
   "cell_type": "code",
   "execution_count": 28,
   "metadata": {
    "collapsed": false
   },
   "outputs": [
   ],
   "source": [
    "df_t = df_t.set_index(\"TractId\")"
   ]
  },
  {
   "cell_type": "code",
   "execution_count": 57,
   "metadata": {
    "collapsed": false
   },
   "outputs": [
    {
     "data": {
      "text/html": [
       "<div>\n",
       "<style scoped>\n",
       "    .dataframe tbody tr th:only-of-type {\n",
       "        vertical-align: middle;\n",
       "    }\n",
       "\n",
       "    .dataframe tbody tr th {\n",
       "        vertical-align: top;\n",
       "    }\n",
       "\n",
       "    .dataframe thead th {\n",
       "        text-align: right;\n",
       "    }\n",
       "</style>\n",
       "<table border=\"1\" class=\"dataframe\">\n",
       "  <thead>\n",
       "    <tr style=\"text-align: right;\">\n",
       "      <th></th>\n",
       "      <th>Planning Region</th>\n",
       "      <th>ARC Modeling Area</th>\n",
       "      <th>Geographic ID for geographic unit</th>\n",
       "      <th>Logical record number</th>\n",
       "      <th>Summary level of geographic unit</th>\n",
       "      <th>County</th>\n",
       "      <th># Population 25 years and over, 2018</th>\n",
       "      <th># Population 25 years and over, 2018 (MOE)</th>\n",
       "      <th># Population 25 years and over, less than 9th grade education, 2018</th>\n",
       "      <th># Population 25 years and over, less than 9th grade education, 2018 (MOE)</th>\n",
       "      <th>...</th>\n",
       "      <th># Population 25 years and over, high school graduate or higher, 2018</th>\n",
       "      <th># Population 25 years and over, high school graduate or higher, 2018 (MOE)</th>\n",
       "      <th>% Population 25 years and over, high school graduate or higher, 2018</th>\n",
       "      <th>% Population 25 years and over, high school graduate or higher, 2018 (MOE)</th>\n",
       "      <th># Population 25 years and over, bachelor's degree or higher, 2018</th>\n",
       "      <th># Population 25 years and over, bachelor's degree or higher, 2018 (MOE)</th>\n",
       "      <th>% Population 25 years and over, bachelor's degree or higher, 2018</th>\n",
       "      <th>% Population 25 years and over, bachelor's degree or higher, 2018 (MOE)</th>\n",
       "      <th>Shape__Area</th>\n",
       "      <th>Shape__Length</th>\n",
       "    </tr>\n",
       "  </thead>\n",
       "  <tbody>\n",
       "    <tr>\n",
       "      <th>0</th>\n",
       "      <td>Northwest Georgia</td>\n",
       "      <td>No</td>\n",
       "      <td>13083040101</td>\n",
       "      <td>1,623</td>\n",
       "      <td>Tract</td>\n",
       "      <td>Dade County</td>\n",
       "      <td>3,471</td>\n",
       "      <td>225</td>\n",
       "      <td>262</td>\n",
       "      <td>112</td>\n",
       "      <td>...</td>\n",
       "      <td>2,644</td>\n",
       "      <td>356</td>\n",
       "      <td>76.2</td>\n",
       "      <td>9.0</td>\n",
       "      <td>538</td>\n",
       "      <td>201</td>\n",
       "      <td>15.5</td>\n",
       "      <td>5.7</td>\n",
       "      <td>1,333,090,751.77</td>\n",
       "      <td>307,498.49</td>\n",
       "    </tr>\n",
       "    <tr>\n",
       "      <th>1</th>\n",
       "      <td>Northwest Georgia</td>\n",
       "      <td>No</td>\n",
       "      <td>13083040102</td>\n",
       "      <td>1,624</td>\n",
       "      <td>Tract</td>\n",
       "      <td>Dade County</td>\n",
       "      <td>2,539</td>\n",
       "      <td>263</td>\n",
       "      <td>90</td>\n",
       "      <td>45</td>\n",
       "      <td>...</td>\n",
       "      <td>2,086</td>\n",
       "      <td>239</td>\n",
       "      <td>82.2</td>\n",
       "      <td>4.0</td>\n",
       "      <td>366</td>\n",
       "      <td>115</td>\n",
       "      <td>14.4</td>\n",
       "      <td>4.3</td>\n",
       "      <td>1,307,209,762.87</td>\n",
       "      <td>231,491.64</td>\n",
       "    </tr>\n",
       "    <tr>\n",
       "      <th>2</th>\n",
       "      <td>Northwest Georgia</td>\n",
       "      <td>No</td>\n",
       "      <td>13083040300</td>\n",
       "      <td>1,626</td>\n",
       "      <td>Tract</td>\n",
       "      <td>Dade County</td>\n",
       "      <td>2,195</td>\n",
       "      <td>153</td>\n",
       "      <td>148</td>\n",
       "      <td>71</td>\n",
       "      <td>...</td>\n",
       "      <td>1,880</td>\n",
       "      <td>248</td>\n",
       "      <td>85.6</td>\n",
       "      <td>9.6</td>\n",
       "      <td>417</td>\n",
       "      <td>113</td>\n",
       "      <td>19.0</td>\n",
       "      <td>5.0</td>\n",
       "      <td>1,112,866,889.24</td>\n",
       "      <td>401,752.79</td>\n",
       "    </tr>\n",
       "    <tr>\n",
       "      <th>3</th>\n",
       "      <td>Northwest Georgia</td>\n",
       "      <td>No</td>\n",
       "      <td>13083040200</td>\n",
       "      <td>1,625</td>\n",
       "      <td>Tract</td>\n",
       "      <td>Dade County</td>\n",
       "      <td>2,888</td>\n",
       "      <td>188</td>\n",
       "      <td>326</td>\n",
       "      <td>118</td>\n",
       "      <td>...</td>\n",
       "      <td>2,168</td>\n",
       "      <td>260</td>\n",
       "      <td>75.1</td>\n",
       "      <td>7.6</td>\n",
       "      <td>219</td>\n",
       "      <td>82</td>\n",
       "      <td>7.6</td>\n",
       "      <td>2.8</td>\n",
       "      <td>1,102,943,234.52</td>\n",
       "      <td>227,605.21</td>\n",
       "    </tr>\n",
       "    <tr>\n",
       "      <th>4</th>\n",
       "      <td>Three Rivers</td>\n",
       "      <td>Yes</td>\n",
       "      <td>13045910103</td>\n",
       "      <td>1,210</td>\n",
       "      <td>Tract</td>\n",
       "      <td>Carroll County</td>\n",
       "      <td>3,479</td>\n",
       "      <td>236</td>\n",
       "      <td>149</td>\n",
       "      <td>91</td>\n",
       "      <td>...</td>\n",
       "      <td>2,900</td>\n",
       "      <td>332</td>\n",
       "      <td>83.4</td>\n",
       "      <td>7.7</td>\n",
       "      <td>689</td>\n",
       "      <td>158</td>\n",
       "      <td>19.8</td>\n",
       "      <td>4.3</td>\n",
       "      <td>607,399,676.93</td>\n",
       "      <td>118,277.75</td>\n",
       "    </tr>\n",
       "  </tbody>\n",
       "</table>\n",
       "<p>5 rows × 50 columns</p>\n",
       "</div>"
      ],
      "text/plain": [
       "     Planning Region ARC Modeling Area  Geographic ID for geographic unit  \\\n",
       "0  Northwest Georgia                No                        13083040101   \n",
       "1  Northwest Georgia                No                        13083040102   \n",
       "2  Northwest Georgia                No                        13083040300   \n",
       "3  Northwest Georgia                No                        13083040200   \n",
       "4       Three Rivers               Yes                        13045910103   \n",
       "\n",
       "  Logical record number Summary level of geographic unit          County  \\\n",
       "0                 1,623                            Tract     Dade County   \n",
       "1                 1,624                            Tract     Dade County   \n",
       "2                 1,626                            Tract     Dade County   \n",
       "3                 1,625                            Tract     Dade County   \n",
       "4                 1,210                            Tract  Carroll County   \n",
       "\n",
       "  # Population 25 years and over, 2018  \\\n",
       "0                                3,471   \n",
       "1                                2,539   \n",
       "2                                2,195   \n",
       "3                                2,888   \n",
       "4                                3,479   \n",
       "\n",
       "  # Population 25 years and over, 2018 (MOE)  \\\n",
       "0                                        225   \n",
       "1                                        263   \n",
       "2                                        153   \n",
       "3                                        188   \n",
       "4                                        236   \n",
       "\n",
       "  # Population 25 years and over, less than 9th grade education, 2018  \\\n",
       "0                                                262                    \n",
       "1                                                 90                    \n",
       "2                                                148                    \n",
       "3                                                326                    \n",
       "4                                                149                    \n",
       "\n",
       "   # Population 25 years and over, less than 9th grade education, 2018 (MOE)  \\\n",
       "0                                                112                           \n",
       "1                                                 45                           \n",
       "2                                                 71                           \n",
       "3                                                118                           \n",
       "4                                                 91                           \n",
       "\n",
       "   ...  # Population 25 years and over, high school graduate or higher, 2018  \\\n",
       "0  ...                                              2,644                      \n",
       "1  ...                                              2,086                      \n",
       "2  ...                                              1,880                      \n",
       "3  ...                                              2,168                      \n",
       "4  ...                                              2,900                      \n",
       "\n",
       "   # Population 25 years and over, high school graduate or higher, 2018 (MOE)  \\\n",
       "0                                                356                            \n",
       "1                                                239                            \n",
       "2                                                248                            \n",
       "3                                                260                            \n",
       "4                                                332                            \n",
       "\n",
       "  % Population 25 years and over, high school graduate or higher, 2018  \\\n",
       "0                                               76.2                     \n",
       "1                                               82.2                     \n",
       "2                                               85.6                     \n",
       "3                                               75.1                     \n",
       "4                                               83.4                     \n",
       "\n",
       "   % Population 25 years and over, high school graduate or higher, 2018 (MOE)  \\\n",
       "0                                                9.0                            \n",
       "1                                                4.0                            \n",
       "2                                                9.6                            \n",
       "3                                                7.6                            \n",
       "4                                                7.7                            \n",
       "\n",
       "   # Population 25 years and over, bachelor's degree or higher, 2018  \\\n",
       "0                                                538                   \n",
       "1                                                366                   \n",
       "2                                                417                   \n",
       "3                                                219                   \n",
       "4                                                689                   \n",
       "\n",
       "   # Population 25 years and over, bachelor's degree or higher, 2018 (MOE)  \\\n",
       "0                                                201                         \n",
       "1                                                115                         \n",
       "2                                                113                         \n",
       "3                                                 82                         \n",
       "4                                                158                         \n",
       "\n",
       "  % Population 25 years and over, bachelor's degree or higher, 2018  \\\n",
       "0                                               15.5                  \n",
       "1                                               14.4                  \n",
       "2                                               19.0                  \n",
       "3                                                7.6                  \n",
       "4                                               19.8                  \n",
       "\n",
       "   % Population 25 years and over, bachelor's degree or higher, 2018 (MOE)  \\\n",
       "0                                                5.7                         \n",
       "1                                                4.3                         \n",
       "2                                                5.0                         \n",
       "3                                                2.8                         \n",
       "4                                                4.3                         \n",
       "\n",
       "        Shape__Area  Shape__Length  \n",
       "0  1,333,090,751.77     307,498.49  \n",
       "1  1,307,209,762.87     231,491.64  \n",
       "2  1,112,866,889.24     401,752.79  \n",
       "3  1,102,943,234.52     227,605.21  \n",
       "4    607,399,676.93     118,277.75  \n",
       "\n",
       "[5 rows x 50 columns]"
      ]
     },
     "execution_count": 57,
     "metadata": {
     },
     "output_type": "execute_result"
    }
   ],
   "source": [
    "educational_data_ga.head()"
   ]
  },
  {
   "cell_type": "code",
   "execution_count": 55,
   "metadata": {
    "collapsed": false,
    "scrolled": true
   },
   "outputs": [
    {
     "data": {
      "text/plain": [
       "State                   Georgia\n",
       "County              Dade County\n",
       "TotalPop                   4501\n",
       "Men                        2120\n",
       "Women                      2381\n",
       "Hispanic                    2.5\n",
       "White                      92.2\n",
       "Black                       0.5\n",
       "Native                      0.0\n",
       "Asian                       2.4\n",
       "Pacific                     2.4\n",
       "VotingAgeCitizen           3555\n",
       "Income                  34046.0\n",
       "IncomeErr                6248.0\n",
       "IncomePerCap            24129.0\n",
       "IncomePerCapErr          3290.0\n",
       "Poverty                    17.3\n",
       "ChildPoverty               15.9\n",
       "Professional               23.5\n",
       "Service                    23.5\n",
       "Office                     20.4\n",
       "Construction               17.5\n",
       "Production                 15.1\n",
       "Drive                      77.0\n",
       "Carpool                    22.0\n",
       "Transit                     0.0\n",
       "Walk                        0.4\n",
       "OtherTransp                 0.0\n",
       "WorkAtHome                  0.6\n",
       "MeanCommute                24.5\n",
       "Employed                   2184\n",
       "PrivateWork                78.3\n",
       "PublicWork                  8.5\n",
       "SelfEmployed               13.2\n",
       "FamilyWork                  0.0\n",
       "Unemployment                7.4\n",
       "Name: 13083040101, dtype: object"
      ]
     },
     "execution_count": 55,
     "metadata": {
     },
     "output_type": "execute_result"
    }
   ],
   "source": [
    "df_t.loc[13083040101]"
   ]
  },
  {
   "cell_type": "code",
   "execution_count": 54,
   "metadata": {
    "collapsed": false
   },
   "outputs": [
    {
     "data": {
      "text/html": [
       "<div>\n",
       "<style scoped>\n",
       "    .dataframe tbody tr th:only-of-type {\n",
       "        vertical-align: middle;\n",
       "    }\n",
       "\n",
       "    .dataframe tbody tr th {\n",
       "        vertical-align: top;\n",
       "    }\n",
       "\n",
       "    .dataframe thead th {\n",
       "        text-align: right;\n",
       "    }\n",
       "</style>\n",
       "<table border=\"1\" class=\"dataframe\">\n",
       "  <thead>\n",
       "    <tr style=\"text-align: right;\">\n",
       "      <th></th>\n",
       "      <th>State</th>\n",
       "      <th>County</th>\n",
       "      <th>TotalPop</th>\n",
       "      <th>Men</th>\n",
       "      <th>Women</th>\n",
       "      <th>Hispanic</th>\n",
       "      <th>White</th>\n",
       "      <th>Black</th>\n",
       "      <th>Native</th>\n",
       "      <th>Asian</th>\n",
       "      <th>...</th>\n",
       "      <th>Walk</th>\n",
       "      <th>OtherTransp</th>\n",
       "      <th>WorkAtHome</th>\n",
       "      <th>MeanCommute</th>\n",
       "      <th>Employed</th>\n",
       "      <th>PrivateWork</th>\n",
       "      <th>PublicWork</th>\n",
       "      <th>SelfEmployed</th>\n",
       "      <th>FamilyWork</th>\n",
       "      <th>Unemployment</th>\n",
       "    </tr>\n",
       "    <tr>\n",
       "      <th>TractId</th>\n",
       "      <th></th>\n",
       "      <th></th>\n",
       "      <th></th>\n",
       "      <th></th>\n",
       "      <th></th>\n",
       "      <th></th>\n",
       "      <th></th>\n",
       "      <th></th>\n",
       "      <th></th>\n",
       "      <th></th>\n",
       "      <th></th>\n",
       "      <th></th>\n",
       "      <th></th>\n",
       "      <th></th>\n",
       "      <th></th>\n",
       "      <th></th>\n",
       "      <th></th>\n",
       "      <th></th>\n",
       "      <th></th>\n",
       "      <th></th>\n",
       "      <th></th>\n",
       "    </tr>\n",
       "  </thead>\n",
       "  <tbody>\n",
       "    <tr>\n",
       "      <th>13001950100</th>\n",
       "      <td>Georgia</td>\n",
       "      <td>Appling County</td>\n",
       "      <td>2830</td>\n",
       "      <td>1412</td>\n",
       "      <td>1418</td>\n",
       "      <td>0.7</td>\n",
       "      <td>96.1</td>\n",
       "      <td>3.2</td>\n",
       "      <td>0.0</td>\n",
       "      <td>0.0</td>\n",
       "      <td>...</td>\n",
       "      <td>2.7</td>\n",
       "      <td>0.0</td>\n",
       "      <td>2.4</td>\n",
       "      <td>21.8</td>\n",
       "      <td>1262</td>\n",
       "      <td>78.8</td>\n",
       "      <td>15.3</td>\n",
       "      <td>5.0</td>\n",
       "      <td>1.0</td>\n",
       "      <td>9.8</td>\n",
       "    </tr>\n",
       "    <tr>\n",
       "      <th>13001950200</th>\n",
       "      <td>Georgia</td>\n",
       "      <td>Appling County</td>\n",
       "      <td>4545</td>\n",
       "      <td>2337</td>\n",
       "      <td>2208</td>\n",
       "      <td>10.0</td>\n",
       "      <td>50.5</td>\n",
       "      <td>37.4</td>\n",
       "      <td>2.0</td>\n",
       "      <td>0.0</td>\n",
       "      <td>...</td>\n",
       "      <td>2.2</td>\n",
       "      <td>0.0</td>\n",
       "      <td>3.1</td>\n",
       "      <td>21.2</td>\n",
       "      <td>1512</td>\n",
       "      <td>75.1</td>\n",
       "      <td>19.1</td>\n",
       "      <td>5.8</td>\n",
       "      <td>0.0</td>\n",
       "      <td>7.0</td>\n",
       "    </tr>\n",
       "    <tr>\n",
       "      <th>13001950300</th>\n",
       "      <td>Georgia</td>\n",
       "      <td>Appling County</td>\n",
       "      <td>5797</td>\n",
       "      <td>2750</td>\n",
       "      <td>3047</td>\n",
       "      <td>13.6</td>\n",
       "      <td>63.9</td>\n",
       "      <td>16.1</td>\n",
       "      <td>0.0</td>\n",
       "      <td>2.7</td>\n",
       "      <td>...</td>\n",
       "      <td>3.1</td>\n",
       "      <td>1.3</td>\n",
       "      <td>0.0</td>\n",
       "      <td>20.0</td>\n",
       "      <td>2020</td>\n",
       "      <td>82.4</td>\n",
       "      <td>15.7</td>\n",
       "      <td>1.8</td>\n",
       "      <td>0.0</td>\n",
       "      <td>9.3</td>\n",
       "    </tr>\n",
       "    <tr>\n",
       "      <th>13001950400</th>\n",
       "      <td>Georgia</td>\n",
       "      <td>Appling County</td>\n",
       "      <td>1577</td>\n",
       "      <td>806</td>\n",
       "      <td>771</td>\n",
       "      <td>6.3</td>\n",
       "      <td>68.5</td>\n",
       "      <td>25.0</td>\n",
       "      <td>0.0</td>\n",
       "      <td>0.0</td>\n",
       "      <td>...</td>\n",
       "      <td>0.0</td>\n",
       "      <td>1.0</td>\n",
       "      <td>1.2</td>\n",
       "      <td>31.0</td>\n",
       "      <td>579</td>\n",
       "      <td>73.6</td>\n",
       "      <td>18.7</td>\n",
       "      <td>7.8</td>\n",
       "      <td>0.0</td>\n",
       "      <td>7.4</td>\n",
       "    </tr>\n",
       "    <tr>\n",
       "      <th>13001950500</th>\n",
       "      <td>Georgia</td>\n",
       "      <td>Appling County</td>\n",
       "      <td>3722</td>\n",
       "      <td>1785</td>\n",
       "      <td>1937</td>\n",
       "      <td>11.7</td>\n",
       "      <td>82.2</td>\n",
       "      <td>4.9</td>\n",
       "      <td>0.4</td>\n",
       "      <td>0.0</td>\n",
       "      <td>...</td>\n",
       "      <td>2.2</td>\n",
       "      <td>0.6</td>\n",
       "      <td>6.0</td>\n",
       "      <td>22.2</td>\n",
       "      <td>1578</td>\n",
       "      <td>79.6</td>\n",
       "      <td>13.6</td>\n",
       "      <td>6.8</td>\n",
       "      <td>0.0</td>\n",
       "      <td>4.7</td>\n",
       "    </tr>\n",
       "    <tr>\n",
       "      <th>...</th>\n",
       "      <td>...</td>\n",
       "      <td>...</td>\n",
       "      <td>...</td>\n",
       "      <td>...</td>\n",
       "      <td>...</td>\n",
       "      <td>...</td>\n",
       "      <td>...</td>\n",
       "      <td>...</td>\n",
       "      <td>...</td>\n",
       "      <td>...</td>\n",
       "      <td>...</td>\n",
       "      <td>...</td>\n",
       "      <td>...</td>\n",
       "      <td>...</td>\n",
       "      <td>...</td>\n",
       "      <td>...</td>\n",
       "      <td>...</td>\n",
       "      <td>...</td>\n",
       "      <td>...</td>\n",
       "      <td>...</td>\n",
       "      <td>...</td>\n",
       "    </tr>\n",
       "    <tr>\n",
       "      <th>13321950100</th>\n",
       "      <td>Georgia</td>\n",
       "      <td>Worth County</td>\n",
       "      <td>3028</td>\n",
       "      <td>1558</td>\n",
       "      <td>1470</td>\n",
       "      <td>2.2</td>\n",
       "      <td>73.6</td>\n",
       "      <td>20.2</td>\n",
       "      <td>0.4</td>\n",
       "      <td>0.5</td>\n",
       "      <td>...</td>\n",
       "      <td>0.0</td>\n",
       "      <td>0.0</td>\n",
       "      <td>2.8</td>\n",
       "      <td>36.1</td>\n",
       "      <td>1116</td>\n",
       "      <td>75.8</td>\n",
       "      <td>15.6</td>\n",
       "      <td>8.6</td>\n",
       "      <td>0.0</td>\n",
       "      <td>15.8</td>\n",
       "    </tr>\n",
       "    <tr>\n",
       "      <th>13321950200</th>\n",
       "      <td>Georgia</td>\n",
       "      <td>Worth County</td>\n",
       "      <td>7097</td>\n",
       "      <td>3092</td>\n",
       "      <td>4005</td>\n",
       "      <td>0.1</td>\n",
       "      <td>68.3</td>\n",
       "      <td>30.2</td>\n",
       "      <td>1.5</td>\n",
       "      <td>0.0</td>\n",
       "      <td>...</td>\n",
       "      <td>0.0</td>\n",
       "      <td>3.4</td>\n",
       "      <td>5.6</td>\n",
       "      <td>21.5</td>\n",
       "      <td>2569</td>\n",
       "      <td>73.5</td>\n",
       "      <td>18.3</td>\n",
       "      <td>8.2</td>\n",
       "      <td>0.0</td>\n",
       "      <td>8.5</td>\n",
       "    </tr>\n",
       "    <tr>\n",
       "      <th>13321950400</th>\n",
       "      <td>Georgia</td>\n",
       "      <td>Worth County</td>\n",
       "      <td>4393</td>\n",
       "      <td>2168</td>\n",
       "      <td>2225</td>\n",
       "      <td>1.2</td>\n",
       "      <td>76.5</td>\n",
       "      <td>21.0</td>\n",
       "      <td>0.0</td>\n",
       "      <td>0.4</td>\n",
       "      <td>...</td>\n",
       "      <td>1.3</td>\n",
       "      <td>0.0</td>\n",
       "      <td>1.9</td>\n",
       "      <td>27.0</td>\n",
       "      <td>1702</td>\n",
       "      <td>81.1</td>\n",
       "      <td>12.4</td>\n",
       "      <td>6.5</td>\n",
       "      <td>0.0</td>\n",
       "      <td>9.4</td>\n",
       "    </tr>\n",
       "    <tr>\n",
       "      <th>13321950500</th>\n",
       "      <td>Georgia</td>\n",
       "      <td>Worth County</td>\n",
       "      <td>4027</td>\n",
       "      <td>1984</td>\n",
       "      <td>2043</td>\n",
       "      <td>1.5</td>\n",
       "      <td>45.7</td>\n",
       "      <td>47.3</td>\n",
       "      <td>0.0</td>\n",
       "      <td>0.8</td>\n",
       "      <td>...</td>\n",
       "      <td>0.0</td>\n",
       "      <td>0.7</td>\n",
       "      <td>3.8</td>\n",
       "      <td>25.7</td>\n",
       "      <td>1805</td>\n",
       "      <td>70.7</td>\n",
       "      <td>25.0</td>\n",
       "      <td>4.3</td>\n",
       "      <td>0.0</td>\n",
       "      <td>7.4</td>\n",
       "    </tr>\n",
       "    <tr>\n",
       "      <th>13321950600</th>\n",
       "      <td>Georgia</td>\n",
       "      <td>Worth County</td>\n",
       "      <td>2264</td>\n",
       "      <td>1369</td>\n",
       "      <td>895</td>\n",
       "      <td>10.3</td>\n",
       "      <td>77.1</td>\n",
       "      <td>12.6</td>\n",
       "      <td>0.0</td>\n",
       "      <td>0.0</td>\n",
       "      <td>...</td>\n",
       "      <td>0.4</td>\n",
       "      <td>1.5</td>\n",
       "      <td>10.1</td>\n",
       "      <td>27.7</td>\n",
       "      <td>961</td>\n",
       "      <td>80.2</td>\n",
       "      <td>9.3</td>\n",
       "      <td>10.5</td>\n",
       "      <td>0.0</td>\n",
       "      <td>9.6</td>\n",
       "    </tr>\n",
       "  </tbody>\n",
       "</table>\n",
       "<p>1950 rows × 36 columns</p>\n",
       "</div>"
      ],
      "text/plain": [
       "               State          County  TotalPop   Men  Women  Hispanic  White  \\\n",
       "TractId                                                                        \n",
       "13001950100  Georgia  Appling County      2830  1412   1418       0.7   96.1   \n",
       "13001950200  Georgia  Appling County      4545  2337   2208      10.0   50.5   \n",
       "13001950300  Georgia  Appling County      5797  2750   3047      13.6   63.9   \n",
       "13001950400  Georgia  Appling County      1577   806    771       6.3   68.5   \n",
       "13001950500  Georgia  Appling County      3722  1785   1937      11.7   82.2   \n",
       "...              ...             ...       ...   ...    ...       ...    ...   \n",
       "13321950100  Georgia    Worth County      3028  1558   1470       2.2   73.6   \n",
       "13321950200  Georgia    Worth County      7097  3092   4005       0.1   68.3   \n",
       "13321950400  Georgia    Worth County      4393  2168   2225       1.2   76.5   \n",
       "13321950500  Georgia    Worth County      4027  1984   2043       1.5   45.7   \n",
       "13321950600  Georgia    Worth County      2264  1369    895      10.3   77.1   \n",
       "\n",
       "             Black  Native  Asian  ...  Walk  OtherTransp  WorkAtHome  \\\n",
       "TractId                            ...                                  \n",
       "13001950100    3.2     0.0    0.0  ...   2.7          0.0         2.4   \n",
       "13001950200   37.4     2.0    0.0  ...   2.2          0.0         3.1   \n",
       "13001950300   16.1     0.0    2.7  ...   3.1          1.3         0.0   \n",
       "13001950400   25.0     0.0    0.0  ...   0.0          1.0         1.2   \n",
       "13001950500    4.9     0.4    0.0  ...   2.2          0.6         6.0   \n",
       "...            ...     ...    ...  ...   ...          ...         ...   \n",
       "13321950100   20.2     0.4    0.5  ...   0.0          0.0         2.8   \n",
       "13321950200   30.2     1.5    0.0  ...   0.0          3.4         5.6   \n",
       "13321950400   21.0     0.0    0.4  ...   1.3          0.0         1.9   \n",
       "13321950500   47.3     0.0    0.8  ...   0.0          0.7         3.8   \n",
       "13321950600   12.6     0.0    0.0  ...   0.4          1.5        10.1   \n",
       "\n",
       "             MeanCommute  Employed  PrivateWork  PublicWork  SelfEmployed  \\\n",
       "TractId                                                                     \n",
       "13001950100         21.8      1262         78.8        15.3           5.0   \n",
       "13001950200         21.2      1512         75.1        19.1           5.8   \n",
       "13001950300         20.0      2020         82.4        15.7           1.8   \n",
       "13001950400         31.0       579         73.6        18.7           7.8   \n",
       "13001950500         22.2      1578         79.6        13.6           6.8   \n",
       "...                  ...       ...          ...         ...           ...   \n",
       "13321950100         36.1      1116         75.8        15.6           8.6   \n",
       "13321950200         21.5      2569         73.5        18.3           8.2   \n",
       "13321950400         27.0      1702         81.1        12.4           6.5   \n",
       "13321950500         25.7      1805         70.7        25.0           4.3   \n",
       "13321950600         27.7       961         80.2         9.3          10.5   \n",
       "\n",
       "             FamilyWork  Unemployment  \n",
       "TractId                                \n",
       "13001950100         1.0           9.8  \n",
       "13001950200         0.0           7.0  \n",
       "13001950300         0.0           9.3  \n",
       "13001950400         0.0           7.4  \n",
       "13001950500         0.0           4.7  \n",
       "...                 ...           ...  \n",
       "13321950100         0.0          15.8  \n",
       "13321950200         0.0           8.5  \n",
       "13321950400         0.0           9.4  \n",
       "13321950500         0.0           7.4  \n",
       "13321950600         0.0           9.6  \n",
       "\n",
       "[1950 rows x 36 columns]"
      ]
     },
     "execution_count": 54,
     "metadata": {
     },
     "output_type": "execute_result"
    }
   ],
   "source": [
    "df_t[df_t.index.isin(educational_data_ga[\"Geographic ID for geographic unit\"])]"
   ]
  },
  {
   "cell_type": "code",
   "execution_count": 56,
   "metadata": {
    "collapsed": false
   },
   "outputs": [
    {
     "data": {
      "text/plain": [
       "No         1016\n",
       "Yes         951\n",
       "Partial       2\n",
       "Name: ARC Modeling Area, dtype: int64"
      ]
     },
     "execution_count": 56,
     "metadata": {
     },
     "output_type": "execute_result"
    }
   ],
   "source": [
    "educational_data_ga[\"ARC Modeling Area\"].value_counts()"
   ]
  },
  {
   "cell_type": "code",
   "execution_count": 36,
   "metadata": {
    "collapsed": false,
    "scrolled": true
   },
   "outputs": [
    {
     "name": "stdout",
     "output_type": "stream",
     "text": [
      "<class 'pandas.core.frame.DataFrame'>\n",
      "RangeIndex: 1000 entries, 0 to 999\n",
      "Data columns (total 37 columns):\n",
      " #   Column            Non-Null Count  Dtype  \n",
      "---  ------            --------------  -----  \n",
      " 0   TractId           1000 non-null   int64  \n",
      " 1   State             1000 non-null   object \n",
      " 2   County            1000 non-null   object \n",
      " 3   TotalPop          1000 non-null   int64  \n",
      " 4   Men               1000 non-null   int64  \n",
      " 5   Women             1000 non-null   int64  \n",
      " 6   Hispanic          996 non-null    float64\n",
      " 7   White             996 non-null    float64\n",
      " 8   Black             996 non-null    float64\n",
      " 9   Native            996 non-null    float64\n",
      " 10  Asian             996 non-null    float64\n",
      " 11  Pacific           996 non-null    float64\n",
      " 12  VotingAgeCitizen  1000 non-null   int64  \n",
      " 13  Income            994 non-null    float64\n",
      " 14  IncomeErr         994 non-null    float64\n",
      " 15  IncomePerCap      995 non-null    float64\n",
      " 16  IncomePerCapErr   995 non-null    float64\n",
      " 17  Poverty           995 non-null    float64\n",
      " 18  ChildPoverty      994 non-null    float64\n",
      " 19  Professional      995 non-null    float64\n",
      " 20  Service           995 non-null    float64\n",
      " 21  Office            995 non-null    float64\n",
      " 22  Construction      995 non-null    float64\n",
      " 23  Production        995 non-null    float64\n",
      " 24  Drive             995 non-null    float64\n",
      " 25  Carpool           995 non-null    float64\n",
      " 26  Transit           995 non-null    float64\n",
      " 27  Walk              995 non-null    float64\n",
      " 28  OtherTransp       995 non-null    float64\n",
      " 29  WorkAtHome        995 non-null    float64\n",
      " 30  MeanCommute       995 non-null    float64\n",
      " 31  Employed          1000 non-null   int64  \n",
      " 32  PrivateWork       995 non-null    float64\n",
      " 33  PublicWork        995 non-null    float64\n",
      " 34  SelfEmployed      995 non-null    float64\n",
      " 35  FamilyWork        995 non-null    float64\n",
      " 36  Unemployment      995 non-null    float64\n",
      "dtypes: float64(29), int64(6), object(2)\n",
      "memory usage: 289.2+ KB\n"
     ]
    }
   ],
   "source": [
    "row_subset_county = pd.read_csv('CensusData/acs2017_county_data.csv',nrows=1000)\n",
    "row_subset_tract = pd.read_csv('CensusData/acs2017_census_tract_data.csv',nrows=1000)\n",
    "row_subset_HCtract = pd.read_csv('HealthcareTractData.csv',nrows=1000)\n",
    "df_georgia = df_t[df_t[\"State\"] == \"Georgia\"]\n",
    "row_subset_tract.info()"
   ]
  },
  {
   "cell_type": "code",
   "execution_count": 4,
   "metadata": {
    "collapsed": false
   },
   "outputs": [
    {
     "name": "stderr",
     "output_type": "stream",
     "text": [
      "/tmp/ipykernel_11030/480872014.py:2: SettingWithCopyWarning: \n",
      "A value is trying to be set on a copy of a slice from a DataFrame\n",
      "\n",
      "See the caveats in the documentation: https://pandas.pydata.org/pandas-docs/stable/user_guide/indexing.html#returning-a-view-versus-a-copy\n",
      "  educational_data_ga[\"County\"][i] =  educational_data_ga[\"County\"][i][educational_data_ga[\"County\"][i].index(',')+2:]\n"
     ]
    }
   ],
   "source": [
    "for i in range (len(educational_data_ga[\"County\"])):\n",
    "    educational_data_ga[\"County\"][i] =  educational_data_ga[\"County\"][i][educational_data_ga[\"County\"][i].index(',')+2:]"
   ]
  },
  {
   "cell_type": "code",
   "execution_count": 41,
   "metadata": {
    "collapsed": false
   },
   "outputs": [
    {
     "data": {
      "text/plain": [
       "Index(['Planning Region', 'ARC Modeling Area',\n",
       "       'Geographic ID for geographic unit', 'Logical record number',\n",
       "       'Summary level of geographic unit', 'County',\n",
       "       '# Population 25 years and over, 2018',\n",
       "       '# Population 25 years and over, 2018 (MOE)',\n",
       "       '# Population 25 years and over, less than 9th grade education, 2018',\n",
       "       '# Population 25 years and over, less than 9th grade education, 2018 (MOE)',\n",
       "       '% Population 25 years and over, less than 9th grade education, 2018',\n",
       "       '% Population 25 years and over, less than 9th grade education, 2018 (MOE)',\n",
       "       '# Population 25 years and over, 9th-12th grade, no diploma, 2018',\n",
       "       '# Population 25 years and over, 9th-12th grade, no diploma, 2018 (MOE)',\n",
       "       '% Population 25 years and over, 9th-12th grade, no diploma, 2018',\n",
       "       '% Population 25 years and over, 9th-12th grade, no diploma, 2018 (MOE)',\n",
       "       '# Population 25 years and over, high school graduate (includes GED), 2018',\n",
       "       '# Population 25 years and over, high school graduate (includes GED), 2018 (MOE)',\n",
       "       '% Population 25 years and over, high school graduate (includes GED), 2018',\n",
       "       '% Population 25 years and over, high school graduate (includes GED), 2018 (MOE)',\n",
       "       '# Population 25 years and over, some college, no degree, 2018',\n",
       "       '# Population 25 years and over, some college, no degree, 2018 (MOE)',\n",
       "       '% Population 25 years and over, some college, no degree, 2018',\n",
       "       '% Population 25 years and over, some college, no degree, 2018 (MOE)',\n",
       "       '# Population 25 years and over, associate's degree, 2018',\n",
       "       '# Population 25 years and over, associate's degree, 2018 (MOE)',\n",
       "       '% Population 25 years and over, associate's degree, 2018',\n",
       "       '% Population 25 years and over, associate's degree, 2018 (MOE)',\n",
       "       '# Population 25 years and over, bachelor's degree, 2018',\n",
       "       '# Population 25 years and over, bachelor's degree, 2018 (MOE)',\n",
       "       '% Population 25 years and over, bachelor's degree, 2018',\n",
       "       '% Population 25 years and over, bachelor's degree, 2018 (MOE)',\n",
       "       '# Population 25 years and over, graduate or professional degree, 2018',\n",
       "       '# Population 25 years and over, graduate or professional degree, 2018 (MOE)',\n",
       "       '% Population 25 years and over, graduate or professional degree, 2018',\n",
       "       '% Population 25 years and over, graduate or professional degree, 2018 (MOE)',\n",
       "       '# Population 25 years and over, Less than high school graduate, 2018',\n",
       "       '# Population 25 years and over, Less than high school graduate, 2018 (MOE)',\n",
       "       '% Population 25 years and over, Less than high school graduate, 2018',\n",
       "       '% Population 25 years and over, Less than high school graduate, 2018 (MOE)',\n",
       "       '# Population 25 years and over, high school graduate or higher, 2018',\n",
       "       '# Population 25 years and over, high school graduate or higher, 2018 (MOE)',\n",
       "       '% Population 25 years and over, high school graduate or higher, 2018',\n",
       "       '% Population 25 years and over, high school graduate or higher, 2018 (MOE)',\n",
       "       '# Population 25 years and over, bachelor's degree or higher, 2018',\n",
       "       '# Population 25 years and over, bachelor's degree or higher, 2018 (MOE)',\n",
       "       '% Population 25 years and over, bachelor's degree or higher, 2018',\n",
       "       '% Population 25 years and over, bachelor's degree or higher, 2018 (MOE)',\n",
       "       'Shape__Area', 'Shape__Length'],\n",
       "      dtype='object')"
      ]
     },
     "execution_count": 41,
     "metadata": {
     },
     "output_type": "execute_result"
    }
   ],
   "source": [
    "educational_data_ga.columns"
   ]
  },
  {
   "cell_type": "code",
   "execution_count": 5,
   "metadata": {
    "collapsed": false
   },
   "outputs": [
   ],
   "source": [
    "row_subset_tract = row_subset_tract.rename(columns={\"Public Work\": \"Public Work%\", \"Construction\": \"Construction%\", \"VotingAgeCitizen\":\"Adults\"})"
   ]
  },
  {
   "cell_type": "code",
   "execution_count": 6,
   "metadata": {
    "collapsed": false
   },
   "outputs": [
   ],
   "source": [
    "from sklearn.ensemble import RandomForestClassifier\n",
    "from sklearn import metrics\n",
    "from sklearn.neighbors import KNeighborsClassifier"
   ]
  },
  {
   "cell_type": "code",
   "execution_count": 7,
   "metadata": {
    "collapsed": false
   },
   "outputs": [
   ],
   "source": [
    "from sklearn.model_selection import train_test_split"
   ]
  },
  {
   "cell_type": "code",
   "execution_count": 8,
   "metadata": {
    "collapsed": false
   },
   "outputs": [
    {
     "data": {
      "text/plain": [
       "1"
      ]
     },
     "execution_count": 8,
     "metadata": {
     },
     "output_type": "execute_result"
    }
   ],
   "source": [
    "def categorize(percentage):\n",
    "    return int(percentage // 50)\n",
    "categorize(50)"
   ]
  },
  {
   "cell_type": "code",
   "execution_count": 9,
   "metadata": {
    "collapsed": false
   },
   "outputs": [
   ],
   "source": [
    "df_t = df_t.dropna()"
   ]
  },
  {
   "cell_type": "code",
   "execution_count": 12,
   "metadata": {
    "collapsed": false
   },
   "outputs": [
   ],
   "source": [
    "X_train, X_test, y_train, y_test = train_test_split(df_t[[\"Poverty\", \"Employed\", \"Income\", \"IncomePerCap\", \"Professional\", \"Service\", \"Office\", \"Construction\", \"Production\"]], df_t[\"White\"].apply(categorize), test_size=0.2)"
   ]
  },
  {
   "cell_type": "code",
   "execution_count": 19,
   "metadata": {
    "collapsed": false
   },
   "outputs": [
    {
     "data": {
      "text/plain": [
       "0.7846534653465347"
      ]
     },
     "execution_count": 19,
     "metadata": {
     },
     "output_type": "execute_result"
    }
   ],
   "source": [
    "model = KNeighborsClassifier(n_neighbors=40)\n",
    "model.fit(X_train, y_train)\n",
    "metrics.accuracy_score(y_test, model.predict(X_test))"
   ]
  },
  {
   "cell_type": "code",
   "execution_count": 42,
   "metadata": {
    "collapsed": false
   },
   "outputs": [
    {
     "data": {
      "image/png": "[encoded data removed]",
      "text/plain": "<Figure size 360x360 with 1 Axes>"
     },
     "metadata": {
      "image/png": {
       "height": 367,
       "width": 353
      },
      "needs_background": "light"
     },
     "output_type": "execute_result"
    },
    {
     "data": {
      "image/png": "[encoded data removed]",
      "text/plain": "<Figure size 360x360 with 1 Axes>"
     },
     "metadata": {
      "image/png": {
       "height": 367,
       "width": 353
      },
      "needs_background": "light"
     },
     "output_type": "execute_result"
    },
    {
     "data": {
      "image/png": "[encoded data removed]",
      "text/plain": "<Figure size 360x360 with 1 Axes>"
     },
     "metadata": {
      "image/png": {
       "height": 367,
       "width": 353
      },
      "needs_background": "light"
     },
     "output_type": "execute_result"
    }
   ],
   "source": [
    "sns.relplot(data = df_t, x = \"White\", y = \"IncomePerCap\")\n",
    "plt.title(\"White vs Income\")\n",
    "plt.show()\n",
    "sns.relplot(data = df_t, x = \"Black\", y = \"IncomePerCap\")\n",
    "plt.title(\"Black vs Income\")\n",
    "plt.show()\n",
    "sns.relplot(data = df_t, x = (df_t[\"Men\"]/df_t[\"TotalPop\"]), y = \"IncomePerCap\")\n",
    "plt.title(\"% Men vs Income\")\n",
    "plt.xlabel(\"% Population Men\")\n",
    "plt.show()"
   ]
  },
  {
   "cell_type": "code",
   "execution_count": 71,
   "metadata": {
    "collapsed": false
   },
   "outputs": [
    {
     "data": {
      "text/plain": [
       "0      1407\n",
       "1      1652\n",
       "2      2480\n",
       "3      3257\n",
       "4      7229\n",
       "       ... \n",
       "995    5138\n",
       "996    2778\n",
       "997    2587\n",
       "998    4909\n",
       "999    7872\n",
       "Name: VotingAgeCitizen, Length: 1000, dtype: int64"
      ]
     },
     "execution_count": 71,
     "metadata": {
     },
     "output_type": "execute_result"
    }
   ],
   "source": [
    "row_subset_tract[\"VotingAgeCitizen\"]"
   ]
  },
  {
   "cell_type": "code",
   "execution_count": 99,
   "metadata": {
    "collapsed": false
   },
   "outputs": [
    {
     "data": {
      "image/png": "[encoded data removed]",
      "text/plain": "<Figure size 864x504 with 2 Axes>"
     },
     "metadata": {
      "image/png": {
       "height": 492,
       "width": 734
      },
      "needs_background": "light"
     },
     "output_type": "execute_result"
    }
   ],
   "source": [
    "fig = sns.heatmap(row_subset_tract.corr())"
   ]
  },
  {
   "cell_type": "code",
   "execution_count": 58,
   "metadata": {
    "collapsed": false
   },
   "outputs": [
    {
     "data": {
      "text/plain": [
       "Index(['StateAbbr', 'StateDesc', 'CountyName', 'CountyFIPS', 'TractFIPS',\n",
       "       'TotalPopulation', 'ACCESS2_CrudePrev', 'ACCESS2_Crude95CI',\n",
       "       'ARTHRITIS_CrudePrev', 'ARTHRITIS_Crude95CI', 'BINGE_CrudePrev',\n",
       "       'BINGE_Crude95CI', 'BPHIGH_CrudePrev', 'BPHIGH_Crude95CI',\n",
       "       'BPMED_CrudePrev', 'BPMED_Crude95CI', 'CANCER_CrudePrev',\n",
       "       'CANCER_Crude95CI', 'CASTHMA_CrudePrev', 'CASTHMA_Crude95CI',\n",
       "       'CERVICAL_CrudePrev', 'CERVICAL_Crude95CI', 'CHD_CrudePrev',\n",
       "       'CHD_Crude95CI', 'CHECKUP_CrudePrev', 'CHECKUP_Crude95CI',\n",
       "       'CHOLSCREEN_CrudePrev', 'CHOLSCREEN_Crude95CI',\n",
       "       'COLON_SCREEN_CrudePrev', 'COLON_SCREEN_Crude95CI', 'COPD_CrudePrev',\n",
       "       'COPD_Crude95CI', 'COREM_CrudePrev', 'COREM_Crude95CI',\n",
       "       'COREW_CrudePrev', 'COREW_Crude95CI', 'CSMOKING_CrudePrev',\n",
       "       'CSMOKING_Crude95CI', 'DENTAL_CrudePrev', 'DENTAL_Crude95CI',\n",
       "       'DEPRESSION_CrudePrev', 'DEPRESSION_Crude95CI', 'DIABETES_CrudePrev',\n",
       "       'DIABETES_Crude95CI', 'GHLTH_CrudePrev', 'GHLTH_Crude95CI',\n",
       "       'HIGHCHOL_CrudePrev', 'HIGHCHOL_Crude95CI', 'KIDNEY_CrudePrev',\n",
       "       'KIDNEY_Crude95CI', 'LPA_CrudePrev', 'LPA_Crude95CI',\n",
       "       'MAMMOUSE_CrudePrev', 'MAMMOUSE_Crude95CI', 'MHLTH_CrudePrev',\n",
       "       'MHLTH_Crude95CI', 'OBESITY_CrudePrev', 'OBESITY_Crude95CI',\n",
       "       'PHLTH_CrudePrev', 'PHLTH_Crude95CI', 'SLEEP_CrudePrev',\n",
       "       'SLEEP_Crude95CI', 'STROKE_CrudePrev', 'STROKE_Crude95CI',\n",
       "       'TEETHLOST_CrudePrev', 'TEETHLOST_Crude95CI', 'Geolocation'],\n",
       "      dtype='object')"
      ]
     },
     "execution_count": 58,
     "metadata": {
     },
     "output_type": "execute_result"
    }
   ],
   "source": [
    "row_subset_HCtract.columns"
   ]
  },
  {
   "cell_type": "code",
   "execution_count": 0,
   "metadata": {
    "collapsed": false
   },
   "outputs": [
   ],
   "source": [
   ]
  }
 ],
 "metadata": {
  "kernelspec": {
   "display_name": "Python 3 (system-wide)",
   "language": "python",
   "metadata": {
    "cocalc": {
     "description": "Python 3 programming language",
     "priority": 100,
     "url": "https://www.python.org/"
    }
   },
   "name": "python3",
   "resource_dir": "/ext/jupyter/kernels/python3"
  },
  "language_info": {
   "codemirror_mode": {
    "name": "ipython",
    "version": 3
   },
   "file_extension": ".py",
   "mimetype": "text/x-python",
   "name": "python",
   "nbconvert_exporter": "python",
   "pygments_lexer": "ipython3",
   "version": "3.8.10"
  }
 },
 "nbformat": 4,
 "nbformat_minor": 4
}